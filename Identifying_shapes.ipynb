{
 "cells": [
  {
   "cell_type": "code",
   "execution_count": 150,
   "metadata": {},
   "outputs": [],
   "source": [
    "# importing the libraries\n",
    "import cv2\n",
    "import numpy as np\n",
    "import matplotlib\n",
    "import matplotlib.pyplot as plt\n",
    "%matplotlib inline"
   ]
  },
  {
   "cell_type": "code",
   "execution_count": 151,
   "metadata": {},
   "outputs": [],
   "source": [
    "# reading the image\n",
    "image=cv2.imread(\"someshapes.jpg\")\n",
    "cv2.imshow('Identifying these Shapes',image)\n",
    "cv2.waitKey(0) #press right shift to close the window\n",
    "cv2.destroyAllWindows()"
   ]
  },
  {
   "cell_type": "code",
   "execution_count": 152,
   "metadata": {},
   "outputs": [],
   "source": [
    "# grayscaled images\n",
    "gray_img=cv2.cvtColor(image,cv2.COLOR_BGR2GRAY)\n",
    "cv2.imshow('Grayscaled Shapes',gray_img)\n",
    "cv2.waitKey(0)\n",
    "cv2.destroyAllWindows()"
   ]
  },
  {
   "cell_type": "code",
   "execution_count": 153,
   "metadata": {},
   "outputs": [],
   "source": [
    "# thresholded images\n",
    "ret, thresh_img = cv2.threshold(gray_img, 127, 255, cv2.THRESH_BINARY_INV)\n",
    "cv2.imshow('Thresholded Shapes',thresh_img)\n",
    "cv2.waitKey(0)\n",
    "cv2.destroyAllWindows()"
   ]
  },
  {
   "cell_type": "code",
   "execution_count": 154,
   "metadata": {},
   "outputs": [],
   "source": [
    "# finding the contpours\n",
    "contours,heirarchy=cv2.findContours(thresh_img.copy(),cv2.RETR_EXTERNAL,cv2.CHAIN_APPROX_NONE)"
   ]
  },
  {
   "cell_type": "code",
   "execution_count": 155,
   "metadata": {},
   "outputs": [],
   "source": [
    "for cnt in contours:\n",
    "    approx=cv2.approxPolyDP(cnt,0.01*cv2.arcLength(cnt,True),True)  # finding the approx polygons\n",
    "    \n",
    "    if(len(approx)==3): #if no of sides of polygon are 3\n",
    "        img_shape=\"Triangle\"\n",
    "        M=cv2.moments(cnt)\n",
    "        Cx=int(M[\"m10\"]/M[\"m00\"])\n",
    "        Cy=int(M[\"m01\"]/M[\"m00\"])\n",
    "        cv2.drawContours(image,[cnt],0,(255,0,0),-1)\n",
    "        cv2.putText(image,img_shape,(Cx-50,Cy),cv2.FONT_HERSHEY_COMPLEX,1,(0,0,0),1)\n",
    "                    \n",
    "    elif(len(approx)==4):\n",
    "        x,y,w,h=cv2.boundingRect(cnt)\n",
    "        M=cv2.moments(cnt)\n",
    "        Cx=int(M[\"m10\"]/M[\"m00\"])\n",
    "        Cy=int(M[\"m01\"]/M[\"m00\"])\n",
    "        if(abs(w-h)<=3): # checks for the square\n",
    "            img_shape=\"Square\"\n",
    "            cv2.drawContours(image,[cnt],0,(0,255,0),-1)        \n",
    "            cv2.putText(image,img_shape,(Cx-50,Cy),cv2.FONT_HERSHEY_COMPLEX,1,(0,0,0),1)\n",
    "        else:\n",
    "            img_shape=\"Rectangle\"\n",
    "            cv2.drawContours(image,[cnt],0,(255,255,0),-1)        \n",
    "            cv2.putText(image,img_shape,(Cx-50,Cy),cv2.FONT_HERSHEY_COMPLEX,1,(0,0,0),1)  \n",
    "    elif(len(approx)==10): \n",
    "        img_shape=\"Star\"\n",
    "        M=cv2.moments(cnt)\n",
    "        Cx=int(M[\"m10\"]/M[\"m00\"])\n",
    "        Cy=int(M[\"m01\"]/M[\"m00\"])\n",
    "        cv2.drawContours(image,[cnt],0,(255,0,255),-1)\n",
    "        cv2.putText(image,img_shape,(Cx-50,Cy),cv2.FONT_HERSHEY_COMPLEX,1,(0,0,0),1) \n",
    "    elif(len(approx)>=15):\n",
    "        img_shape=\"Circle\"\n",
    "        cv2.drawContours(image,[cnt],0,(150,127,0),-1)\n",
    "        M=cv2.moments(cnt)\n",
    "        Cx=int(M[\"m10\"]/M[\"m00\"])\n",
    "        Cy=int(M[\"m01\"]/M[\"m00\"])\n",
    "        \n",
    "        cv2.putText(image,img_shape,(Cx-50,Cy),cv2.FONT_HERSHEY_COMPLEX,1,(0,0,0),1) \n",
    "    cv2.imshow('Identifying Shapes',image)\n",
    "    cv2.waitKey(0)\n",
    "image_name = \"output_image.jpg\"    \n",
    "cv2.imwrite(image_name,image)    \n",
    "cv2.destroyAllWindows()\n"
   ]
  },
  {
   "cell_type": "code",
   "execution_count": null,
   "metadata": {},
   "outputs": [],
   "source": []
  }
 ],
 "metadata": {
  "kernelspec": {
   "display_name": "Python 3",
   "language": "python",
   "name": "python3"
  },
  "language_info": {
   "codemirror_mode": {
    "name": "ipython",
    "version": 3
   },
   "file_extension": ".py",
   "mimetype": "text/x-python",
   "name": "python",
   "nbconvert_exporter": "python",
   "pygments_lexer": "ipython3",
   "version": "3.8.2"
  }
 },
 "nbformat": 4,
 "nbformat_minor": 4
}
